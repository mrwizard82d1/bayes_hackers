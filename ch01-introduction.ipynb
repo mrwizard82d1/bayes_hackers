{
 "cells": [
  {
   "cell_type": "markdown",
   "metadata": {
    "collapsed": true,
    "pycharm": {
     "name": "#%% md\n"
    }
   },
   "source": [
    "# Chapter 01\n",
    "\n",
    "## Introduction"
   ]
  },
  {
   "cell_type": "code",
   "execution_count": null,
   "outputs": [],
   "source": [
    "# noinspection PyUnresolvedReferences\n",
    "import arviz as az\n",
    "import matplotlib.pyplot as plt\n",
    "import numpy as np\n",
    "# Commented out for loading speed\n",
    "# import pymc3 as pymc\n",
    "# noinspection PyUnresolvedReferences\n",
    "import scipy.stats as stats\n",
    "# noinspection PyUnresolvedReferences\n",
    "import seaborn as sns"
   ],
   "metadata": {
    "collapsed": false,
    "pycharm": {
     "name": "#%%\n"
    }
   }
  },
  {
   "cell_type": "code",
   "execution_count": null,
   "outputs": [],
   "source": [
    "import fractions"
   ],
   "metadata": {
    "collapsed": false,
    "pycharm": {
     "name": "#%%\n"
    }
   }
  },
  {
   "cell_type": "markdown",
   "source": [
    "### A farmer or a librarian?"
   ],
   "metadata": {
    "collapsed": false,
    "pycharm": {
     "name": "#%% md\n"
    }
   }
  },
  {
   "cell_type": "code",
   "execution_count": null,
   "outputs": [],
   "source": [
    "# 300 dots per inch for saved figures and inline plots\n",
    "plt.rcParams['savefig.dpi'] = 300\n",
    "plt.rcParams['figure.dpi'] = 300"
   ],
   "metadata": {
    "collapsed": false,
    "pycharm": {
     "name": "#%%\n"
    }
   }
  },
  {
   "cell_type": "code",
   "execution_count": null,
   "outputs": [],
   "source": [
    "prior = np.array([fractions.Fraction(1, 21), fractions.Fraction(20, 21)])\n",
    "likelihood = np.array([fractions.Fraction(95, 100), fractions.Fraction(5, 10)])\n",
    "products = prior * likelihood\n",
    "posterior = products / sum(products)"
   ],
   "metadata": {
    "collapsed": false,
    "pycharm": {
     "name": "#%%\n"
    }
   }
  },
  {
   "cell_type": "code",
   "execution_count": null,
   "outputs": [],
   "source": [
    "colors = ['#348abd', '#a60628']\n",
    "plt.bar([0, 0.7], prior, alpha=0.7, width=0.25, color = colors[0],\n",
    "        label='Prior distribution', lw='3', edgecolor=colors[0])\n",
    "plt.bar([0 + 0.25, 0.7 + 0.25], posterior, alpha=0.7, width=0.25,\n",
    "        color=colors[1], label='Posterior distribution',\n",
    "        lw='3', edgecolor=colors[1])\n",
    "plt.xticks([0.20, 0.95], ['Librarian', 'Farmer'])\n",
    "plt.title(\"Prior and posterior probabilities of Steve's occupation.\")\n",
    "plt.ylabel('Probability')\n",
    "plt.legend(loc='upper left')"
   ],
   "metadata": {
    "collapsed": false,
    "pycharm": {
     "name": "#%%\n"
    }
   }
  }
 ],
 "metadata": {
  "kernelspec": {
   "display_name": "Python 3",
   "language": "python",
   "name": "python3"
  },
  "language_info": {
   "codemirror_mode": {
    "name": "ipython",
    "version": 2
   },
   "file_extension": ".py",
   "mimetype": "text/x-python",
   "name": "python",
   "nbconvert_exporter": "python",
   "pygments_lexer": "ipython2",
   "version": "2.7.6"
  }
 },
 "nbformat": 4,
 "nbformat_minor": 0
}