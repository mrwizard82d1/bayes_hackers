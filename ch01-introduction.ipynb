{
 "cells": [
  {
   "cell_type": "markdown",
   "metadata": {
    "collapsed": true,
    "pycharm": {
     "name": "#%% md\n"
    }
   },
   "source": [
    "# Chapter 01\n",
    "\n",
    "## Introduction"
   ]
  },
  {
   "cell_type": "code",
   "execution_count": null,
   "outputs": [],
   "source": [
    "# noinspection PyUnresolvedReferences\n",
    "import arviz as az\n",
    "import matplotlib.pyplot as plt\n",
    "import numpy as np\n",
    "# Commented out for loading speed\n",
    "# import pymc3 as pymc\n",
    "# noinspection PyUnresolvedReferences\n",
    "import scipy.stats as stats\n",
    "# noinspection PyUnresolvedReferences\n",
    "import seaborn as sns"
   ],
   "metadata": {
    "collapsed": false,
    "pycharm": {
     "name": "#%%\n"
    }
   }
  },
  {
   "cell_type": "code",
   "execution_count": null,
   "outputs": [],
   "source": [
    "import fractions"
   ],
   "metadata": {
    "collapsed": false,
    "pycharm": {
     "name": "#%%\n"
    }
   }
  },
  {
   "cell_type": "markdown",
   "source": [
    "### A farmer or a librarian?"
   ],
   "metadata": {
    "collapsed": false,
    "pycharm": {
     "name": "#%% md\n"
    }
   }
  },
  {
   "cell_type": "code",
   "execution_count": null,
   "outputs": [],
   "source": [
    "# 300 dots per inch for saved figures and inline plots\n",
    "plt.rcParams['savefig.dpi'] = 300\n",
    "plt.rcParams['figure.dpi'] = 300"
   ],
   "metadata": {
    "collapsed": false,
    "pycharm": {
     "name": "#%%\n"
    }
   }
  },
  {
   "cell_type": "code",
   "execution_count": null,
   "outputs": [],
   "source": [
    "prior = np.array([fractions.Fraction(1, 21), fractions.Fraction(20, 21)])\n",
    "likelihood = np.array([fractions.Fraction(95, 100), fractions.Fraction(5, 10)])\n",
    "products = prior * likelihood\n",
    "posterior = products / sum(products)"
   ],
   "metadata": {
    "collapsed": false,
    "pycharm": {
     "name": "#%%\n"
    }
   }
  },
  {
   "cell_type": "code",
   "execution_count": null,
   "outputs": [],
   "source": [
    "colors = ['#348abd', '#a60628']\n",
    "plt.bar([0, 0.7], prior, alpha=0.7, width=0.25, color = colors[0],\n",
    "        label='Prior distribution', lw='3', edgecolor=colors[0])\n",
    "plt.bar([0 + 0.25, 0.7 + 0.25], posterior, alpha=0.7, width=0.25,\n",
    "        color=colors[1], label='Posterior distribution',\n",
    "        lw='3', edgecolor=colors[1])\n",
    "plt.xticks([0.20, 0.95], ['Librarian', 'Farmer'])\n",
    "plt.title(\"Prior and posterior probabilities of Steve's occupation.\")\n",
    "plt.ylabel('Probability')\n",
    "plt.legend(loc='upper left')"
   ],
   "metadata": {
    "collapsed": false,
    "pycharm": {
     "name": "#%%\n"
    }
   }
  },
  {
   "cell_type": "markdown",
   "source": [
    "### Distributions"
   ],
   "metadata": {
    "collapsed": false,
    "pycharm": {
     "name": "#%% md\n"
    }
   }
  },
  {
   "cell_type": "markdown",
   "source": [
    "A probability distribution is a function of a random variable, often\n",
    "called _Z_, that maps _Z_ to a value such that the sum over all values of\n",
    "_Z_ (either continuous or discrete) is one. That is, a probability\n",
    "distribution is a function whose sum over all range values for each member\n",
    "of the domain is exactly one."
   ],
   "metadata": {
    "collapsed": false,
    "pycharm": {
     "name": "#%% md\n"
    }
   }
  },
  {
   "cell_type": "markdown",
   "source": [
    "#### Poisson distribution"
   ],
   "metadata": {
    "collapsed": false,
    "pycharm": {
     "name": "#%% md\n"
    }
   }
  },
  {
   "cell_type": "markdown",
   "source": [
    "A Poisson distribution is a discrete distribution (each member of the domain\n",
    "is \"distinct\" or \"seperated\" from other members of the domain). The domain\n",
    "of the Poisson distribution is the set of non-negative integers (infinite,\n",
    "but countably infinite). The shape is controlled by a single (shape?)\n",
    "parameter, _lambda_. Higher values of _lambda_ result in a higher probability\n",
    "mass for larger elements of the domain.\n",
    "\n",
    "The mean, first moment, or expectation of a Poisson distribution with\n",
    "parameter, _lambda_, is $\\lambda$."
   ],
   "metadata": {
    "collapsed": false
   }
  },
  {
   "cell_type": "code",
   "execution_count": null,
   "outputs": [],
   "source": [
    "# Plot on a 12.5\" x 4\" canvas\n",
    "plt.figure(figsize=(12.5, 4))\n",
    "# Using two colors\n",
    "colors = ['#348abd', '#a60628']"
   ],
   "metadata": {
    "collapsed": false,
    "pycharm": {
     "name": "#%%\n"
    }
   }
  },
  {
   "cell_type": "code",
   "execution_count": null,
   "outputs": [],
   "source": [
    "# Plot two different Poisson distributions (probability mass functions)\n",
    "a = np.arange(16)  # 16 x-values\n",
    "poi = stats.poisson  # save a couple of keystrokes\n",
    "# Note the trailing underscore because `lambda` is a keyword\n",
    "lambda_ = [1.5, 4.25]"
   ],
   "metadata": {
    "collapsed": false,
    "pycharm": {
     "name": "#%%\n"
    }
   }
  },
  {
   "cell_type": "code",
   "execution_count": null,
   "outputs": [],
   "source": [
    "# Calculate the probability \"mass\" of the Poisson distribution at each _a_\n",
    "plt.bar(a, poi.pmf(a, lambda_[0]), color=colors[0],\n",
    "        label=f'$\\lambda = {lambda_[0]:.1f}$', alpha=0.60, edgecolor=colors[0], lw='3')\n",
    "plt.bar(a, poi.pmf(a, lambda_[1]), color=colors[1],\n",
    "        label=f'$\\lambda = {lambda_[1]:.1f}$', alpha=0.60, edgecolor=colors[1], lw='3')\n",
    "plt.xticks(a + 0.4, a)\n",
    "plt.legend()\n",
    "plt.ylabel('Probability of $k$')\n",
    "plt.xlabel('$k$')\n",
    "plt.title('Probability mass function of a Poisson random variable but'\n",
    "          ' differing $\\lambda$ values.')"
   ],
   "metadata": {
    "collapsed": false,
    "pycharm": {
     "name": "#%%\n"
    }
   }
  },
  {
   "cell_type": "markdown",
   "source": [
    "#### Exponential distribution"
   ],
   "metadata": {
    "collapsed": false,
    "pycharm": {
     "name": "#%% md\n"
    }
   }
  },
  {
   "cell_type": "markdown",
   "source": [
    "An exponential distribution is a continuous distribution (members of the domain\n",
    "are continuous). The domain of the exponential distribution is the set of\n",
    "real numbers. The shape is controlled by a single (shape?) parameter, _lambda_.\n",
    "Higher values of _lambda_ result in a higher probability mass for larger members\n",
    "of the domain.\n",
    "\n",
    "The mean, first moment, or expectation of an exponential distribution with\n",
    "parameter, _lambda_, is $1 / \\lambda$."
   ],
   "metadata": {
    "collapsed": false,
    "pycharm": {
     "name": "#%% md\n"
    }
   }
  },
  {
   "cell_type": "code",
   "execution_count": null,
   "outputs": [],
   "source": [
    "a = np.linspace(0, 4, 100)  # Sample real numbers linearly\n",
    "expo = stats.expon\n",
    "lambda_ = [0.5, 1]"
   ],
   "metadata": {
    "collapsed": false,
    "pycharm": {
     "name": "#%%\n"
    }
   }
  },
  {
   "cell_type": "code",
   "execution_count": null,
   "outputs": [],
   "source": [
    "for l, c in zip(lambda_, colors):\n",
    "    plt.plot(a, expo.pdf(a, scale=1 / l), lw=3, color=c,\n",
    "                         label=f'$\\lambda$ = {l:.1f}')\n",
    "    plt.fill_between(a, expo.pdf(a, scale=1 / l), color=c, alpha=0.33)\n",
    "plt.legend()\n",
    "plt.ylabel('Probability density function at $z$')\n",
    "plt.xlabel('$z$')\n",
    "plt.ylim(0, 1.2)\n",
    "plt.title('Probability density function of an exponential random variable,'\n",
    "          ' differing $\\lambda$ values')"
   ],
   "metadata": {
    "collapsed": false,
    "pycharm": {
     "name": "#%%\n"
    }
   }
  },
  {
   "cell_type": "markdown",
   "source": [
    "### Bayesian inference using computers"
   ],
   "metadata": {
    "collapsed": false,
    "pycharm": {
     "name": "#%% md\n"
    }
   }
  },
  {
   "cell_type": "markdown",
   "source": [
    "You are given a series of daily text message counts from a user of your\n",
    "system. You are curious if the user's text messaging habits have changed\n",
    "over time, either gradually or suddenly. How can you model this?"
   ],
   "metadata": {
    "collapsed": false,
    "pycharm": {
     "name": "#%% md\n"
    }
   }
  },
  {
   "cell_type": "markdown",
   "source": [
    "#### Plot the text message counts over time."
   ],
   "metadata": {
    "collapsed": false,
    "pycharm": {
     "name": "#%% md\n"
    }
   }
  },
  {
   "cell_type": "code",
   "execution_count": null,
   "outputs": [],
   "source": [
    "# Plot on a 12.5\" x 3.5\" \"canvas\"\n",
    "plt.figure(figsize=(12.5, 3.5))"
   ],
   "metadata": {
    "collapsed": false,
    "pycharm": {
     "name": "#%%\n"
    }
   }
  },
  {
   "cell_type": "code",
   "execution_count": null,
   "outputs": [],
   "source": [
    "# Read in the data (single column text file, I believe)\n",
    "count_data = np.loadtxt('data/txtdata.csv')\n",
    "n_count_data = len(count_data)"
   ],
   "metadata": {
    "collapsed": false,
    "pycharm": {
     "name": "#%%\n"
    }
   }
  },
  {
   "cell_type": "code",
   "execution_count": null,
   "outputs": [],
   "source": [
    "# Plot a bar chart: text message counts over time\n",
    "plt.bar(np.arange(n_count_data), count_data, color='#348abd')\n",
    "plt.xlabel('Time (days)')\n",
    "plt.ylabel('Text messages received')\n",
    "plt.title(\"Did the user's texting habits change over time?\")\n",
    "plt.xlim(0, n_count_data)"
   ],
   "metadata": {
    "collapsed": false,
    "pycharm": {
     "name": "#%%\n"
    }
   }
  },
  {
   "cell_type": "markdown",
   "source": [
    "#### Modeling the counts over time"
   ],
   "metadata": {
    "collapsed": false,
    "pycharm": {
     "name": "#%% md\n"
    }
   }
  },
  {
   "cell_type": "markdown",
   "source": [
    "The author suggests modeling the counts using a Poisson distribution; that is,\n",
    "$$\n",
    "C_{i} \\sim \\mathrm{Poisson}(\\lambda)\n",
    "$$\n",
    "\n",
    "However, $\\lambda$, is a parameter whose value is **unknown**; consequently, we use Bayesian inference to infer a distribution of values for this parameter.\n",
    "\n",
    "The author further posits that $\\lambda$ actually changes (discontinuously) over time. That is, $\\lambda$ is drawn from a _switchover_ at time, $\\tau$.\n",
    "\n",
    "$$\n",
    "\\lambda = \\left\\{\n",
    "    \\begin{array}\\\\\n",
    "        \\lambda_{1} \\mbox{ if } \\mathrm{t} < \\tau \\\\\n",
    "        \\lambda_{2} \\mbox{ if } \\mathrm{t} \\geq \\tau\n",
    "    \\end{array}\n",
    "\\right.\n",
    "$$\n",
    "\n",
    "In order to infer the values $\\lambda_{1}$ and $\\lambda_{2}$, we must assign prior probabilities to these values. Because the $\\lambda$ parameter for the Poisson distribution accepts any **positive** number, we need a distribution that generates positive numbers. The exponential distribution provides a continuous distribution for positive values so the author suggests using this distribution as follows:\n",
    "\n",
    "$$\n",
    "\\begin{array}\\\\\n",
    "    \\lambda_{1} \\sim \\mathrm{Exp}(\\alpha) \\\\\n",
    "    \\lambda_{2} \\sim \\mathrm{Exp}(\\alpha)\n",
    "\\end{array}\n",
    "$$\n",
    "\n",
    "where \\alpha is a _hyperparameter_; that is, a parameter that influences other **parameters**.\n",
    "\n",
    "The author argues that setting $\\alpha$ to the inverse of the sample average of the count data like\n",
    "\n",
    "$$\n",
    "\\frac{1}{\\mathrm{N}} \\sum_{i = 0}^{\\mathrm{N}} \\mathrm{C}_{i} \\approx \\mathbb{E} [ \\lambda\\mid\\alpha ] = \\frac{1}{\\alpha}\n",
    "$$\n",
    "\n",
    "The author does not detail his reasoning for this choice; however, the following explanation seems reasonable to me.\n",
    "\n",
    "The counts are distributed as a Poisson distribution with parameter $\\lambda$. The expectation of a Poisson distribution with parameter $\\lambda$ is also $\\lambda$. The sample mean of the counts is given by the summation expression in the previous section, and we want the sample mean to be the inverse of $\\alpha$ but $\\frac{1}{\\alpha}$ is also the expectation of the parameter, $\\lambda \\mid \\alpha$, for the exponential distribution.\n",
    "\n",
    "The author states that this choice of hyperparameter is \"not very opinionated in our prior\"; that is, the prior minimizes the influence of the hyperparameter.\n",
    "\n",
    "Finally, the author posits using a uniform distribution for $\\tau$, the time at which the $\\lambda$ parameter of the Poisson distribution changes. That is,\n",
    "\n",
    "$$\n",
    "\\tau \\sim \\mathrm{DiscreteUniform}(0, 70)\n",
    "$$\n",
    "\n",
    "He argues that this choice is reasonable because of the noisiness of the data.\n",
    "\n",
    "This distribution implies that\n",
    "\n",
    "$$\n",
    "\\mathcal{P}(\\tau = \\mathcal{k}) = \\frac{1}{70}\n",
    "$$"
   ],
   "metadata": {
    "collapsed": false
   }
  },
  {
   "cell_type": "code",
   "execution_count": null,
   "outputs": [],
   "source": [],
   "metadata": {
    "collapsed": false,
    "pycharm": {
     "name": "#%%\n"
    }
   }
  }
 ],
 "metadata": {
  "kernelspec": {
   "display_name": "Python 3",
   "language": "python",
   "name": "python3"
  },
  "language_info": {
   "codemirror_mode": {
    "name": "ipython",
    "version": 2
   },
   "file_extension": ".py",
   "mimetype": "text/x-python",
   "name": "python",
   "nbconvert_exporter": "python",
   "pygments_lexer": "ipython2",
   "version": "2.7.6"
  }
 },
 "nbformat": 4,
 "nbformat_minor": 0
}